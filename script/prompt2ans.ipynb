{
 "cells": [
  {
   "cell_type": "code",
   "execution_count": 7,
   "metadata": {},
   "outputs": [
    {
     "name": "stdout",
     "output_type": "stream",
     "text": [
      "Sending prompt to Qwen model: 请提供您想要发送的提示内容。\n",
      "Qwen Model Response:\n",
      "\n",
      "{\"id\":\"chatcmpl-6e782a36-7cb2-925d-882d-f6902195c998\",\"choices\":[{\"finish_reason\":\"stop\",\"index\":0,\"logprobs\":null,\"message\":{\"content\":\"您好，我已准备好为您提供帮助，请告诉我您需要什么样的提示内容呢？\",\"refusal\":null,\"role\":\"assistant\",\"audio\":null,\"function_call\":null,\"tool_calls\":null}}],\"created\":1731860818,\"model\":\"qwen-plus\",\"object\":\"chat.completion\",\"service_tier\":null,\"system_fingerprint\":null,\"usage\":{\"completion_tokens\":16,\"prompt_tokens\":28,\"total_tokens\":44,\"completion_tokens_details\":null,\"prompt_tokens_details\":null}}\n"
     ]
    }
   ],
   "source": [
    "import os\n",
    "from openai import OpenAI\n",
    "\n",
    "# 初始化 OpenAI 客户端\n",
    "client = OpenAI(\n",
    "    api_key=\"sk-4103ea1d07bb4de8a8f26dfba52622b6\",  # 从环境变量获取 API Key\n",
    "    base_url=\"https://dashscope.aliyuncs.com/compatible-mode/v1\",\n",
    ")\n",
    "\n",
    "def send_prompt_to_qiwen(prompt):\n",
    "    \"\"\"发送提示到千问模型并返回回复\"\"\"\n",
    "    try:\n",
    "        completion = client.chat.completions.create(\n",
    "            model=\"qwen-plus\",  # 使用千问模型\n",
    "            messages=[\n",
    "                {'role': 'system', 'content': 'You are a helpful assistant.'},\n",
    "                {'role': 'user', 'content': prompt}\n",
    "            ],\n",
    "        )\n",
    "        return completion.model_dump_json()  # 返回模型的 JSON 格式回复\n",
    "    except Exception as e:\n",
    "        print(f\"An error occurred while contacting the Qwen model: {e}\")\n",
    "        return None\n",
    "\n",
    "def main():\n",
    "    prompt = \"请提供您想要发送的提示内容。\"  # 替换为您的提示内容\n",
    "    print(f\"Sending prompt to Qwen model: {prompt}\")\n",
    "    \n",
    "    response = send_prompt_to_qiwen(prompt)\n",
    "    \n",
    "    if response:\n",
    "        print(\"Qwen Model Response:\\n\")\n",
    "        print(response)\n",
    "\n",
    "if __name__ == \"__main__\":\n",
    "    main()"
   ]
  },
  {
   "cell_type": "code",
   "execution_count": null,
   "metadata": {},
   "outputs": [],
   "source": []
  }
 ],
 "metadata": {
  "kernelspec": {
   "display_name": "Julia 1.9.0",
   "language": "julia",
   "name": "julia-1.9"
  },
  "language_info": {
   "file_extension": ".jl",
   "mimetype": "application/julia",
   "name": "julia",
   "version": "1.9.0"
  }
 },
 "nbformat": 4,
 "nbformat_minor": 2
}
